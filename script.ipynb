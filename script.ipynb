{
 "cells": [
  {
   "cell_type": "code",
   "execution_count": 8,
   "metadata": {},
   "outputs": [],
   "source": [
    "def get_input():\n",
    "    num_bits = int(input('Number of Bits: '))\n",
    "    num_clauses = int(input('Num of Clauses: '))\n",
    "    return num_bits, num_clauses\n"
   ]
  },
  {
   "cell_type": "code",
   "execution_count": 22,
   "metadata": {},
   "outputs": [
    {
     "name": "stdout",
     "output_type": "stream",
     "text": [
      "[['-3', '2', '1'], ['3', '-2', '1']]\n"
     ]
    }
   ],
   "source": [
    "result = get_input()\n",
    "def get_string(bits, clauses):\n",
    "    strings = []\n",
    "    for num in range(clauses):\n",
    "        while True:\n",
    "            clause = str(input('Inputs: '))\n",
    "            clause = clause.strip( )\n",
    "            clause_split = clause.split(' ')\n",
    "            formatted_lst = []\n",
    "            for letter in clause_split:\n",
    "                if letter == '' or letter == ' ':\n",
    "                    continue \n",
    "                else:\n",
    "                    formatted_lst.append(letter)\n",
    "            if len(formatted_lst) == bits:\n",
    "                strings.append(formatted_lst)\n",
    "                break\n",
    "            else:\n",
    "                print('There are not enough inputs')\n",
    "    \n",
    "    return strings\n",
    "\n",
    "resulted_string = get_string(result[0], result[-1])\n",
    "print(resulted_string)\n"
   ]
  },
  {
   "cell_type": "code",
   "execution_count": 29,
   "metadata": {},
   "outputs": [
    {
     "name": "stdout",
     "output_type": "stream",
     "text": [
      "[[1, 0, 0], [0, 1, 0]]\n"
     ]
    }
   ],
   "source": [
    "# 0 is Positive  (State Positives)\n",
    "# 1 is Negative (State Negative)\n",
    "def result(strings):\n",
    "    bits = []\n",
    "    for lst in strings:\n",
    "        binary_num = []\n",
    "        for number in lst:\n",
    "            number = int(number)\n",
    "            if number < 0:\n",
    "                binary_num.append(1)\n",
    "            else:\n",
    "                binary_num.append(0)\n",
    "        \n",
    "        bits.append(binary_num)\n",
    "    \n",
    "    return bits\n",
    "    \n",
    "resulting_bits = result(resulted_string)\n",
    "print(resulting_bits)"
   ]
  },
  {
   "cell_type": "code",
   "execution_count": 45,
   "metadata": {},
   "outputs": [
    {
     "name": "stdout",
     "output_type": "stream",
     "text": [
      "Type ON or OFF for desired Result\n",
      "Type ON or OFF for desired Result\n",
      "Type ON or OFF for desired Result\n",
      "{-3: True, 2: True, 1: True}\n"
     ]
    }
   ],
   "source": [
    "lst_of_inputs = []\n",
    "def fetch_numbers(strings):\n",
    "    for lst in strings:\n",
    "        for number in lst:\n",
    "            number = int(number)\n",
    "            if not number in lst_of_inputs:\n",
    "                lst_of_inputs.append(number)\n",
    "            else:\n",
    "                continue\n",
    "\n",
    "fetch_numbers(resulted_string)\n",
    "\n",
    "import random\n",
    "\n",
    "def goal(lst_of_inputs=lst_of_inputs):\n",
    "    params = {}\n",
    "    length = len(resulted_string[0])\n",
    "    counter = 0\n",
    "    for input_num in lst_of_inputs:\n",
    "        if counter >= length:\n",
    "            break\n",
    "        else:\n",
    "            print(\"Type ON or OFF for desired Result\")\n",
    "            input_num = int(input_num)\n",
    "            vals = list(params.keys())\n",
    "            if input_num not in vals:\n",
    "                state = random.randint(1, 2)\n",
    "                if state == 1:\n",
    "                    string = False \n",
    "                else:\n",
    "                    string = True\n",
    "                params[input_num] = string\n",
    "        counter += 1\n",
    "            \n",
    "        \n",
    "    return params\n",
    "\n",
    "goals = goal()\n",
    "print(goals)\n",
    "    "
   ]
  },
  {
   "cell_type": "code",
   "execution_count": 64,
   "metadata": {},
   "outputs": [
    {
     "name": "stdout",
     "output_type": "stream",
     "text": [
      "[]\n"
     ]
    }
   ],
   "source": [
    "solutions = []\n",
    "\n",
    "def find_sol(resulted_string, goals):\n",
    "\n",
    "    for clause in resulted_string:\n",
    "        bit = []\n",
    "        for number, state in goals.items():\n",
    "            for competiting_number in clause:\n",
    "                if competiting_number == number:\n",
    "                    bit.append(competiting_number)\n",
    "                    break\n",
    "                else:\n",
    "                    continue\n",
    "            \n",
    "        \n",
    "            if len(bit) < 3:\n",
    "                continue \n",
    "            else:\n",
    "                solutions.append(bit)\n",
    "    \n",
    "    \n",
    "    return solutions\n",
    "        \n",
    "        \n",
    "            \n",
    "\n",
    "\n",
    "\n",
    "\n",
    "\n",
    "\n",
    "result = find_sol(resulted_string=resulted_string, goals=goals)\n",
    "print(solutions) \n",
    "            \n",
    "        \n"
   ]
  }
 ],
 "metadata": {
  "interpreter": {
   "hash": "aee8b7b246df8f9039afb4144a1f6fd8d2ca17a180786b69acc140d282b71a49"
  },
  "kernelspec": {
   "display_name": "Python 3.9.10 64-bit",
   "language": "python",
   "name": "python3"
  },
  "language_info": {
   "codemirror_mode": {
    "name": "ipython",
    "version": 3
   },
   "file_extension": ".py",
   "mimetype": "text/x-python",
   "name": "python",
   "nbconvert_exporter": "python",
   "pygments_lexer": "ipython3",
   "version": "3.9.10"
  },
  "orig_nbformat": 4
 },
 "nbformat": 4,
 "nbformat_minor": 2
}
