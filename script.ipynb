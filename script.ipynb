{
 "cells": [
  {
   "cell_type": "code",
   "execution_count": 1,
   "metadata": {},
   "outputs": [],
   "source": [
    "def get_input():\n",
    "    num_bits = int(input('Number of Bits: '))\n",
    "    num_clauses = int(input('Num of Clauses: '))\n",
    "    return num_bits, num_clauses\n"
   ]
  },
  {
   "cell_type": "code",
   "execution_count": 2,
   "metadata": {},
   "outputs": [],
   "source": [
    "result = get_input()\n",
    "def get_string(bits, clauses):\n",
    "    strings = []\n",
    "    for num in range(clauses):\n",
    "        while True:\n",
    "            clause = str(input(' '))\n",
    "            clause = clause.strip( )\n",
    "            clause_split = clause.split(' ')\n",
    "            formatted_lst = []\n",
    "            for letter in clause_split:\n",
    "                if letter == '' or letter == ' ':\n",
    "                    continue \n",
    "                else:\n",
    "                    formatted_lst.append(letter)\n",
    "            if len(formatted_lst) == bits:\n",
    "                strings.append(formatted_lst)\n",
    "                break\n",
    "            else:\n",
    "                print('There are not enough inputs')\n",
    "    \n",
    "    return strings\n",
    "\n",
    "resulted_string = get_string(result[0], result[-1])\n",
    "\n",
    "\n",
    "    \n",
    "    \n"
   ]
  }
 ],
 "metadata": {
  "interpreter": {
   "hash": "aee8b7b246df8f9039afb4144a1f6fd8d2ca17a180786b69acc140d282b71a49"
  },
  "kernelspec": {
   "display_name": "Python 3.9.10 64-bit",
   "language": "python",
   "name": "python3"
  },
  "language_info": {
   "codemirror_mode": {
    "name": "ipython",
    "version": 3
   },
   "file_extension": ".py",
   "mimetype": "text/x-python",
   "name": "python",
   "nbconvert_exporter": "python",
   "pygments_lexer": "ipython3",
   "version": "3.9.10"
  },
  "orig_nbformat": 4
 },
 "nbformat": 4,
 "nbformat_minor": 2
}
